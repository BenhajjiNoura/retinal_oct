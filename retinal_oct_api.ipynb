{
 "cells": [
  {
   "cell_type": "markdown",
   "id": "92ef318d",
   "metadata": {},
   "source": [
    "import librairie"
   ]
  },
  {
   "cell_type": "code",
   "execution_count": null,
   "id": "252106b0",
   "metadata": {},
   "outputs": [],
   "source": [
    "import flask\n",
    "import io\n",
    "import string\n",
    "import time\n",
    "import os\n",
    "import numpy as np\n",
    "import tensorflow as tf\n",
    "from PIL import Image\n",
    "from flask import Flask, jsonify, request "
   ]
  },
  {
   "cell_type": "markdown",
   "id": "6832359a",
   "metadata": {},
   "source": [
    "load model "
   ]
  },
  {
   "cell_type": "code",
   "execution_count": null,
   "id": "6b6e565f",
   "metadata": {},
   "outputs": [],
   "source": [
    "model = tf.keras.models.load_model('<INSERT YOUR SAVEDMODEL FILE PATH HERE>')"
   ]
  },
  {
   "cell_type": "markdown",
   "id": "881d6f9f",
   "metadata": {},
   "source": [
    "prepare images "
   ]
  },
  {
   "cell_type": "code",
   "execution_count": null,
   "id": "a4a01854",
   "metadata": {},
   "outputs": [],
   "source": [
    "def prepare_image(img):\n",
    "    \"\"\"\n",
    "    prepares the image for the api call\n",
    "    \"\"\"\n",
    "    img = Image.open(io.BytesIO(img))\n",
    "    img = img.resize((224, 224))\n",
    "    img = np.array(img)\n",
    "    img = np.expand_dims(img, 0)\n",
    "    return img"
   ]
  },
  {
   "cell_type": "markdown",
   "id": "878e75af",
   "metadata": {},
   "source": [
    "prediction"
   ]
  },
  {
   "cell_type": "code",
   "execution_count": null,
   "id": "498e7e21",
   "metadata": {},
   "outputs": [],
   "source": [
    "def predict_result(img):\n",
    "    \"\"\"predicts the result\"\"\"\n",
    "    return 1 if model.predict(img)[0][0] > 0.5 else 0"
   ]
  },
  {
   "cell_type": "markdown",
   "id": "a8bbc28b",
   "metadata": {},
   "source": [
    "initialize flask object"
   ]
  },
  {
   "cell_type": "code",
   "execution_count": null,
   "id": "94ec60bd",
   "metadata": {},
   "outputs": [],
   "source": [
    "app = Flask(__name__)"
   ]
  },
  {
   "cell_type": "markdown",
   "id": "879ca7ff",
   "metadata": {},
   "source": [
    "setting up routes and their functions"
   ]
  },
  {
   "cell_type": "code",
   "execution_count": null,
   "id": "77e1259a",
   "metadata": {},
   "outputs": [],
   "source": [
    "\n",
    "@app.route('/predict', methods=['POST'])\n",
    "def infer_image():\n",
    "    # Catch the image file from a POST request\n",
    "    if 'file' not in request.files:\n",
    "        return \"Please try again. The Image doesn't exist\"\n",
    "    \n",
    "    file = request.files.get('file')\n",
    "\n",
    "    if not file:\n",
    "        return\n",
    "\n",
    "    # Read the image\n",
    "    img_bytes = file.read()\n",
    "\n",
    "    # Prepare the image\n",
    "    img = prepare_image(img_bytes)\n",
    "\n",
    "    # Return on a JSON format\n",
    "    return jsonify(prediction=predict_result(img))\n",
    "    \n",
    "\n",
    "@app.route('/', methods=['GET'])\n",
    "def index():\n",
    "    return Retinal OCT prediction API'"
   ]
  },
  {
   "cell_type": "markdown",
   "id": "511e4a55",
   "metadata": {},
   "source": [
    "run the API"
   ]
  },
  {
   "cell_type": "code",
   "execution_count": null,
   "id": "ed404109",
   "metadata": {},
   "outputs": [],
   "source": [
    "if __name__ == '__main__':\n",
    "    app.run(debug=True, host='0.0.0.0')"
   ]
  }
 ],
 "metadata": {
  "kernelspec": {
   "display_name": "Python 3",
   "language": "python",
   "name": "python3"
  },
  "language_info": {
   "codemirror_mode": {
    "name": "ipython",
    "version": 3
   },
   "file_extension": ".py",
   "mimetype": "text/x-python",
   "name": "python",
   "nbconvert_exporter": "python",
   "pygments_lexer": "ipython3",
   "version": "3.8.8"
  }
 },
 "nbformat": 4,
 "nbformat_minor": 5
}
